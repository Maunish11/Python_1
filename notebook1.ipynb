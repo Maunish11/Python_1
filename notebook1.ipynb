{
 "cells": [
  {
   "cell_type": "markdown",
   "id": "05db6b6f",
   "metadata": {},
   "source": [
    "# NoteBook IBM Practice"
   ]
  },
  {
   "cell_type": "markdown",
   "id": "f4452977",
   "metadata": {},
   "source": [
    "## this is the introduction"
   ]
  },
  {
   "cell_type": "markdown",
   "id": "1abc3ceb",
   "metadata": {},
   "source": [
    "### Data science languages: \n",
    "\n",
    "1. Python\n",
    "2. R\n",
    "3. SQL\n",
    "4. Java\n",
    "5. C++\n",
    "6. Julia\n",
    "7. Javascript\n",
    "8. php\n",
    "9. Scala\n",
    "10. Go\n",
    "11. Ruby\n",
    "12. Visual Basic"
   ]
  },
  {
   "cell_type": "markdown",
   "id": "c64747cf",
   "metadata": {},
   "source": [
    "### Data science libraries: \n",
    "\n",
    "1. NumPy\n",
    "2. Pandas\n",
    "3. Matplotlib\n",
    "4. Seaborn\n",
    "5. scikit-learn\n",
    "6. Keras\n",
    "7. TensorFlow\n",
    "8. PyTorch\n",
    "9. Apache Spark\n",
    "10. Vegas\n",
    "11. Big DL\n",
    "12. Ggplot2"
   ]
  },
  {
   "cell_type": "markdown",
   "id": "8aff09f0",
   "metadata": {},
   "source": [
    "| Tool                | Description                                       |\n",
    "|---------------------|---------------------------------------------------|\n",
    "| Python              | A versatile programming language with extensive data science libraries like NumPy, Pandas, scikit-learn, etc. |\n",
    "| R                   | A language specifically designed for statistical computing and analysis with a rich set of packages. |\n",
    "| SQL                 | A query language used for managing and analyzing relational databases. |\n",
    "| Julia               | A high-performance language for scientific computing and data analysis. |\n",
    "| Apache Spark        | A distributed data processing engine commonly used for big data analytics. |\n",
    "| Jupyter Notebook   | An interactive computing environment for data analysis and visualization. |\n",
    "| Tableau            | A data visualization tool for creating interactive dashboards and reports. |\n",
    "| TensorFlow         | An open-source deep learning library developed by Google. |\n",
    "| PyTorch            | An open-source deep learning framework developed by Facebook. |\n",
    "| scikit-learn       | A popular machine learning library in Python. |\n",
    "| XGBoost            | A gradient boosting library for supervised learning tasks. |\n",
    "| Hadoop             | An open-source distributed computing framework for processing big data. |\n",
    "| KNIME              | An open-source platform for data analytics, reporting, and integration. |\n",
    "| RapidMiner         | An integrated environment for data science and machine learning. |\n",
    "| Weka               | A collection of machine learning algorithms for data mining tasks. |\n",
    "| Orange             | An open-source data visualization and analysis tool. |\n"
   ]
  },
  {
   "cell_type": "markdown",
   "id": "751e9666",
   "metadata": {},
   "source": [
    "## arithmetic expression example\n",
    "\n",
    "### addition: 5+3\n",
    "### subtraction: 5-3\n",
    "### multiplication: 5*3\n",
    "### division: 5/2\n",
    "### mixed operation: 5*3-2\n",
    "### parentheses for priority: (5+3)*2"
   ]
  },
  {
   "cell_type": "code",
   "execution_count": null,
   "id": "43a3007c",
   "metadata": {},
   "outputs": [],
   "source": [
    "a = 5\n",
    "b = 3\n",
    "c = a*b\n",
    "d = a+b"
   ]
  },
  {
   "cell_type": "code",
   "execution_count": 1,
   "id": "b38b9394",
   "metadata": {},
   "outputs": [
    {
     "name": "stdout",
     "output_type": "stream",
     "text": [
      "180 minutes is equal to 3.00 hours.\n"
     ]
    }
   ],
   "source": [
    "def convert_minutes_to_hours(minutes):\n",
    "    hours = minutes / 60\n",
    "    return hours\n",
    "\n",
    "minutes_input = 180\n",
    "hours_output = convert_minutes_to_hours(minutes_input)\n",
    "print(f\"{minutes_input} minutes is equal to {hours_output:.2f} hours.\")"
   ]
  },
  {
   "cell_type": "markdown",
   "id": "b7ac049b",
   "metadata": {},
   "source": [
    "## Objectives\n",
    "\n",
    "In this data science project, we aim to achieve the following objectives:\n",
    "\n",
    "1. **Data Collection:** Gather relevant data from various sources to use in our analysis.\n",
    "\n",
    "2. **Data Cleaning and Preprocessing:** Cleanse the collected data, handle missing values, and perform necessary preprocessing steps to prepare it for analysis.\n",
    "\n",
    "3. **Exploratory Data Analysis (EDA):** Perform an exploratory analysis to gain insights, discover patterns, and visualize the data.\n",
    "\n",
    "4. **Feature Engineering:** Create new features or transform existing ones to improve model performance.\n",
    "\n",
    "5. **Model Building:** Develop predictive or analytical models using appropriate machine learning algorithms.\n",
    "\n",
    "6. **Model Evaluation:** Evaluate the performance of the models using relevant metrics and techniques.\n",
    "\n",
    "7. **Model Tuning:** Fine-tune the hyperparameters of the models to optimize their performance.\n",
    "\n",
    "8. **Interpretation and Insights:** Interpret the results of the models and extract meaningful insights from the analysis.\n",
    "\n",
    "9. **Data Visualization:** Present the findings and results through effective data visualizations.\n",
    "\n",
    "10. **Deployment and Reporting:** If applicable, deploy the model to a production environment and create a detailed report of the entire project.\n",
    "\n",
    "These objectives will guide us through the data science project and help us achieve meaningful outcomes and actionable insights from the data.\n"
   ]
  },
  {
   "cell_type": "markdown",
   "id": "63b26b72",
   "metadata": {},
   "source": [
    "## Author\n",
    "\n",
    "Khushi"
   ]
  }
 ],
 "metadata": {
  "kernelspec": {
   "display_name": "Python 3 (ipykernel)",
   "language": "python",
   "name": "python3"
  },
  "language_info": {
   "codemirror_mode": {
    "name": "ipython",
    "version": 3
   },
   "file_extension": ".py",
   "mimetype": "text/x-python",
   "name": "python",
   "nbconvert_exporter": "python",
   "pygments_lexer": "ipython3",
   "version": "3.11.4"
  }
 },
 "nbformat": 4,
 "nbformat_minor": 5
}
