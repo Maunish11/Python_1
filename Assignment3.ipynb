{
 "cells": [
  {
   "cell_type": "markdown",
   "id": "bc4866fd",
   "metadata": {},
   "source": [
    "1.1 Write a Python Program to implement your own myreduce() function which works exactly\n",
    "like Python's built-in function reduce()"
   ]
  },
  {
   "cell_type": "code",
   "execution_count": 24,
   "id": "ce34bc16",
   "metadata": {},
   "outputs": [
    {
     "name": "stdout",
     "output_type": "stream",
     "text": [
      "100\n"
     ]
    }
   ],
   "source": [
    "def rdc(list_1):\n",
    "    return a\n",
    "\n",
    "list_1=[10,15,25,40,10]\n",
    "a=list_1[0]\n",
    "for i in range(1,len(list_1)):\n",
    "    b=list_1[i]\n",
    "    a=a+b\n",
    "print(rdc(list_1))"
   ]
  },
  {
   "cell_type": "markdown",
   "id": "446a9b60",
   "metadata": {},
   "source": [
    "1.2 Write a Python program to implement your own myfilter() function which works exactly\n",
    "like Python's built-in function filter()"
   ]
  },
  {
   "cell_type": "code",
   "execution_count": 37,
   "id": "8cb5c99b",
   "metadata": {},
   "outputs": [
    {
     "name": "stdout",
     "output_type": "stream",
     "text": [
      "[32, 2, 60, 68, 70, 888, 1000]\n"
     ]
    }
   ],
   "source": [
    "def myfilter(even,lst1):\n",
    "    return even(a)\n",
    "lst1=[32,2,60,57,68,70,888,9999,1000]\n",
    "lst2=[]\n",
    "def even(a):\n",
    "    for i in lst1:\n",
    "        if i%2==0:\n",
    "            lst2.append(i)\n",
    "    print(lst2)\n",
    "myfilter(even,lst2)"
   ]
  },
  {
   "cell_type": "code",
   "execution_count": null,
   "id": "73d4cc0f",
   "metadata": {},
   "outputs": [],
   "source": [
    "2. Implement List comprehensions to produce the following lists.\n",
    "Write List comprehensions to produce the following Lists\n",
    "\n",
    "['x', 'xx', 'xxx', 'xxxx', 'y', 'yy', 'yyy', 'yyyy', 'z', 'zz', 'zzz', 'zzzz']\n",
    "['x', 'y', 'z', 'xx', 'yy', 'zz', 'xxx', 'yyy', 'zzz', 'xxxx', 'yyyy', 'zzzz']\n",
    "[[2], [3], [4], [3], [4], [5], [4], [5], [6]] [[2, 3, 4, 5], [3, 4, 5, 6],\n",
    "[4, 5, 6, 7], [5, 6, 7, 8]]\n",
    "[(1, 1), (2, 1), (3, 1), (1, 2), (2, 2), (3, 2), (1, 3), (2, 3), (3, 3)]"
   ]
  },
  {
   "cell_type": "code",
   "execution_count": 42,
   "id": "a040b3e2",
   "metadata": {},
   "outputs": [
    {
     "name": "stdout",
     "output_type": "stream",
     "text": [
      "['x', 'xx', 'xxx', 'xxxx', 'y', 'yy', 'yyy', 'yyyy', 'z', 'zz', 'zzz', 'zzzz']\n"
     ]
    }
   ],
   "source": [
    "NAME = \"xyz\"\n",
    "LST_COMPREHENSION1 = []\n",
    "for letter in NAME:\n",
    "    for NUM in range(1,5):\n",
    "        LST_COMPREHENSION1.append(letter*NUM)\n",
    "print (str(LST_COMPREHENSION1))"
   ]
  },
  {
   "cell_type": "code",
   "execution_count": 52,
   "id": "743985ba",
   "metadata": {},
   "outputs": [
    {
     "name": "stdout",
     "output_type": "stream",
     "text": [
      "['x', 'xx', 'xxx', 'xxxx', 'y', 'yy', 'yyy', 'yyyy', 'z', 'zz', 'zzz', 'zzzz']\n"
     ]
    }
   ],
   "source": [
    "NAME = \"xyz\"\n",
    "LST_COMPREHENSION1 = [letter*NUM for letter in NAME for NUM in range(1,5)]\n",
    "print (str(LST_COMPREHENSION1))"
   ]
  },
  {
   "cell_type": "code",
   "execution_count": 44,
   "id": "d8f0b883",
   "metadata": {},
   "outputs": [
    {
     "name": "stdout",
     "output_type": "stream",
     "text": [
      "['x', 'y', 'z', 'xx', 'yy', 'zz', 'xxx', 'yyy', 'zzz', 'xxxx', 'yyyy', 'zzzz']\n"
     ]
    }
   ],
   "source": [
    "NAME = \"xyz\"\n",
    "LST_COMPREHENSION1 = []\n",
    "for NUM in range(1,5):\n",
    "    for letter in NAME:\n",
    "        LST_COMPREHENSION1.append(letter*NUM)\n",
    "print (str(LST_COMPREHENSION1))"
   ]
  },
  {
   "cell_type": "code",
   "execution_count": 53,
   "id": "ef153487",
   "metadata": {},
   "outputs": [
    {
     "name": "stdout",
     "output_type": "stream",
     "text": [
      "['x', 'y', 'z', 'xx', 'yy', 'zz', 'xxx', 'yyy', 'zzz', 'xxxx', 'yyyy', 'zzzz']\n"
     ]
    }
   ],
   "source": [
    "NAME = \"xyz\"\n",
    "LST_COMPREHENSION1 = [letter*NUM for NUM in range(1,5) for letter in NAME]\n",
    "print (str(LST_COMPREHENSION1))"
   ]
  },
  {
   "cell_type": "code",
   "execution_count": 51,
   "id": "f6841135",
   "metadata": {},
   "outputs": [
    {
     "name": "stdout",
     "output_type": "stream",
     "text": [
      "[[2], [3], [4], [3], [4], [5], [4], [5], [6]]\n"
     ]
    }
   ],
   "source": [
    "list1 = [2,3,4]\n",
    "result = [ [item+num] for item in list1 for num in range(0,3)]\n",
    "print(str(result))"
   ]
  },
  {
   "cell_type": "code",
   "execution_count": 59,
   "id": "26bb62f8",
   "metadata": {},
   "outputs": [
    {
     "name": "stdout",
     "output_type": "stream",
     "text": [
      "[[4, 5, 6, 7], [5, 6, 7, 8]]\n"
     ]
    }
   ],
   "source": [
    "input_list = [4,5,6,7]\n",
    "result =[ [item+num for item in input_list] for num in range(0,2)  ]\n",
    "print(str(result))"
   ]
  },
  {
   "cell_type": "code",
   "execution_count": 60,
   "id": "04da6554",
   "metadata": {},
   "outputs": [
    {
     "name": "stdout",
     "output_type": "stream",
     "text": [
      "[(1, 1), (2, 1), (3, 1), (1, 2), (2, 2), (3, 2), (1, 3), (2, 3), (3, 3)]\n"
     ]
    }
   ],
   "source": [
    "input_list=[1,2,3]\n",
    "result = [ (b,a) for a in input_list for b in input_list]\n",
    "print(str(result))"
   ]
  }
 ],
 "metadata": {
  "kernelspec": {
   "display_name": "Python 3",
   "language": "python",
   "name": "python3"
  },
  "language_info": {
   "codemirror_mode": {
    "name": "ipython",
    "version": 3
   },
   "file_extension": ".py",
   "mimetype": "text/x-python",
   "name": "python",
   "nbconvert_exporter": "python",
   "pygments_lexer": "ipython3",
   "version": "3.8.8"
  }
 },
 "nbformat": 4,
 "nbformat_minor": 5
}
