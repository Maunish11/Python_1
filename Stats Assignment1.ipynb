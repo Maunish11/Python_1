{
 "cells": [
  {
   "cell_type": "markdown",
   "id": "ab1e9d18",
   "metadata": {},
   "source": [
    "Problem Statement 1:\n",
    "\n",
    "The marks awarded for an assignment set for a Year 8 class of 20 students were as follows:\n",
    "6 7 5 7 7 8 7 6 9 7 4 10 6 8 8 9 5 6 4 8\n",
    "\n",
    "Mean: \n",
    "\n",
    "6+7+5+7+7+8+7+ 6+ 9+ 7+ 4+ 10+ 6+ 8+ 8+ 9+ 5+ 6+ 4+ 8/20 = 7.3\n",
    "\n",
    "Mode: Most frequent value\n",
    "\n",
    "7\n",
    "\n",
    "Median : Middle Value\n",
    "\n",
    "7\n"
   ]
  },
  {
   "cell_type": "code",
   "execution_count": 5,
   "id": "51223e9b",
   "metadata": {},
   "outputs": [
    {
     "name": "stdout",
     "output_type": "stream",
     "text": [
      "mean is  6.85\n",
      "median is  7.0\n",
      "mode is  ModeResult(mode=array([7]), count=array([5]))\n"
     ]
    }
   ],
   "source": [
    "import numpy as np\n",
    "from scipy import stats\n",
    "import statistics\n",
    "# problem statement 1\n",
    "a =[6, 7, 5, 7, 7, 8, 7, 6, 9, 7, 4, 10, 6, 8, 8, 9, 5, 6, 4, 8]\n",
    "mean = np.mean(a)\n",
    "median = np.median(a)\n",
    "mode = stats.mode(a)\n",
    "\n",
    "print('mean is ',mean)\n",
    "print('median is ',median)\n",
    "print('mode is ',mode)\n"
   ]
  },
  {
   "cell_type": "markdown",
   "id": "92633a58",
   "metadata": {},
   "source": [
    "Problem Statement 2:\n",
    "\n",
    "The number of calls from motorists per day for roadside service was recorded for a particular month:\n",
    "28, 122, 217, 130, 120, 86, 80, 90, 140, 120, 70, 40, 145, 113, 90, 68, 174, 194, 170,\n",
    "100, 75, 104, 97, 75,\n",
    "123, 100, 75, 104, 97, 75, 123, 100, 89, 120, 109\n",
    "\n",
    "Mean: \n",
    "\n",
    "107.51\n",
    "\n",
    "Mode: Most frequent value\n",
    "\n",
    "75\n",
    "\n",
    "Median : Middle Value\n",
    "\n",
    "100\n"
   ]
  },
  {
   "cell_type": "code",
   "execution_count": 6,
   "id": "75037358",
   "metadata": {},
   "outputs": [
    {
     "name": "stdout",
     "output_type": "stream",
     "text": [
      "mean is  107.51428571428572\n",
      "median is  100.0\n",
      "mode is  ModeResult(mode=array([75]), count=array([4]))\n"
     ]
    }
   ],
   "source": [
    "# problem statement 2\n",
    "b = [28, 122, 217, 130, 120, 86, 80, 90, 140, 120, 70, 40, 145, 113, 90, 68, 174, 194, 170,\n",
    "100, 75, 104, 97, 75,\n",
    "123, 100, 75, 104, 97, 75, 123, 100, 89, 120, 109]\n",
    "mean = np.mean(b)\n",
    "median = np.median(b)\n",
    "mode = stats.mode(b)\n",
    "\n",
    "print('mean is ',mean)\n",
    "print('median is ',median)\n",
    "print('mode is ',mode)\n"
   ]
  },
  {
   "cell_type": "markdown",
   "id": "e079346d",
   "metadata": {},
   "source": [
    "Problem Statement 3:\n",
    "\n",
    "The number of times I go to the gym in weekdays, are given below along with its associated probability:\n",
    "x = 0, 1, 2, 3, 4, 5\n",
    "f(x) = 0.09, 0.15, 0.40, 0.25, 0.10, 0.01\n",
    "Calculate the mean no. of workouts in a week. Also evaluate the variance involved in it.\n",
    "\n",
    "\n",
    "\n",
    "the mean no. of workouts in a week : sum of all (x ⋅ P(x) ) =(0*0.09)+(1*0.15)+(2*0.40)+(3*0.25)+(4*0.10)+(5*0.01) = 2.15\n",
    "\t\n",
    "variance involved :  (x-u)2*p(x) = (0-2.15)^2*0.09+(1-2.15)^2*.15+(2-2.15)^2*0.40+(3-2.15)^2*0.25+(4-2.15)^2*0.10+(5-2.15)^2*0.01 = 1.227\n"
   ]
  },
  {
   "cell_type": "code",
   "execution_count": 7,
   "id": "f6361be8",
   "metadata": {},
   "outputs": [
    {
     "name": "stdout",
     "output_type": "stream",
     "text": [
      "mean is 2.15\n",
      "Variance is 3.6999999999999997\n"
     ]
    }
   ],
   "source": [
    "x = [0, 1, 2, 3, 4, 5]\n",
    "fx = [0.09, 0.15, 0.40, 0.25, 0.10, 0.01]\n",
    "mean = sum([float(x[i])*fx[i] for i in range(len(x))])\n",
    "variance = (sum([float(x[i]**2)*fx[i] for i in range(len(x))])-mean)\n",
    "print('mean is',mean)\n",
    "print('Variance is', variance)"
   ]
  },
  {
   "cell_type": "markdown",
   "id": "05a92037",
   "metadata": {},
   "source": []
  },
  {
   "cell_type": "code",
   "execution_count": null,
   "id": "bd5b8263",
   "metadata": {},
   "outputs": [],
   "source": [
    "Problem Statement 4:\n",
    "\n",
    "Let the continuous random variable D denote the diameter of the hole drilled in an aluminum sheet. The target diameter to be achieved is 12.5mm. Random disturbances in the process often result in inaccuracy.\n",
    "Historical data shows that the distribution of D can be modelled by the PDF (𝑑) = 20𝑒−20(𝑑−12.5), 𝑑 ≥ 12.5. If a part with diameter > 12.6 mm needs to be scrapped, what is the proportion of those parts? What is the CDF when the diameter is of 11 mm? What is your conclusion regarding the proportion of scraps?\n"
   ]
  },
  {
   "cell_type": "markdown",
   "id": "b5c5d9b3",
   "metadata": {},
   "source": [
    "Problem Statement 5:\n",
    "\n",
    "\n",
    "A company manufactures LED bulbs with a faulty rate of 30%. If I randomly select 6 chosen LEDs, what is the probability of having 2 faulty LEDs in my sample?\n",
    "Calculate the average value of this process. Also evaluate the standard deviation associated with it.\n",
    "Faulty bulb = x = 2\n",
    "Total LED bulbs = n = 6\n",
    "Propability = p = 2/6 = 0.3\n",
    "\n",
    " \n",
    "Px = (6 3)(0.3)2 * (0.7)6-2\n",
    "     = 15*0.09*0.2401\n",
    "     = 0.3241\n",
    "Standard Deviation : (σx) = sqrt[ n * P * ( 1 - P ) ]. =sqrt[6*0.3*0.7] = 1.122\n"
   ]
  },
  {
   "cell_type": "markdown",
   "id": "763d9e56",
   "metadata": {},
   "source": [
    "Problem Statement 6:\n",
    " \n",
    "Gaurav and Barakha are both preparing for entrance exams. Gaurav attempts to solve 8 questions per day with a correction rate of 75%, while Barakha averages around 12 questions per day with a correction rate of 45%. What is the probability that each of them will solve 5 questions correctly? What happens in cases of 4 and 6 correct solutions? What do you infer from it? What are the two main governing factors affecting their ability to solve questions correctly? Give a pictorial representation of the same to validate your answer.\n",
    "Gaurav:\n",
    "X=nos question to be solved = 5\n",
    "N = nos question solved = 8\n",
    "P =0.75\n",
    "\n",
    " \n",
    "Px = (8 5)(0.75)5 * (0.25)8-5\n",
    "     = 56*0.2373*0.015625\n",
    "     = 0.2076\n",
    "Standard Deviation : (σx) = sqrt[ n * P * ( 1 - P ) ]. =sqrt[6*0.3*0.7] = 1.122\n",
    "\n",
    "Barkha:\n",
    "X=nos question to be solved = 5\n",
    "N = nos question solved = 12\n",
    "P =0.45\n",
    "Px = (125)(0.45)2 * (0.55)6-2\n",
    "     = 792*0.0185*0.015\n",
    "     = 0.223\n"
   ]
  },
  {
   "cell_type": "code",
   "execution_count": 8,
   "id": "06d3c731",
   "metadata": {},
   "outputs": [
    {
     "data": {
      "image/png": "[encoded data removed]",
      "text/plain": [
       "<Figure size 1296x576 with 2 Axes>"
      ]
     },
     "metadata": {
      "needs_background": "light"
     },
     "output_type": "display_data"
    }
   ],
   "source": [
    "from scipy.stats import binom \n",
    "import matplotlib.pyplot as plt \n",
    "# setting the values of n and p  \n",
    "n_Gaurav = 8\n",
    "p_Gaurav = 0.75\n",
    "n_Barkha = 12\n",
    "p_Barkha = 0.45\n",
    "# defining list of r values \n",
    "r_values_Gaurav = list(range(n_Gaurav + 1)) \n",
    "r_values_Barkha = list(range(n_Barkha + 1)) \n",
    "# list of pmf values \n",
    "dist_Gaurav = [binom.pmf(r, n_Gaurav, p_Gaurav) for r in r_values_Gaurav]\n",
    "dist_Barkha = [binom.pmf(r, n_Barkha, p_Barkha) for r in r_values_Barkha ]\n",
    "# plotting the graph  \n",
    "fig = plt.figure(figsize=(18,8))\n",
    "plt.subplot(1, 2, 1)\n",
    "plt.title('Gaurav\\'s probability distribution')\n",
    "plt.xlabel('Number of questions solved correctly')\n",
    "plt.ylabel('Probability of solving')\n",
    "plt.bar(r_values_Gaurav, dist_Gaurav)\n",
    "plt.subplot(1, 2, 2)\n",
    "plt.title('Barkha\\'s probability distribution')\n",
    "plt.xlabel('Number of questions solved correctly')\n",
    "plt.ylabel('Probability of solving')\n",
    "plt.bar(r_values_Barkha, dist_Barkha) \n",
    "plt.show()"
   ]
  },
  {
   "cell_type": "markdown",
   "id": "3343f9f9",
   "metadata": {},
   "source": [
    "Problem Statement 7:\n",
    "\n",
    "\n",
    "Customers arrive at a rate of 72 per hour to my shop. What is the probability of 𝑘 customers arriving in 4 minutes? a) 5 customers, b) not more than 3 customers, c) more than 3 customers. Give a pictorial representation of the same to validate your answer.\n",
    "\n",
    "f(x) =(e– λ λx)/x! \n",
    "\n",
    "p(X) = e-4.84.85/5!\n",
    " \n",
    "\n",
    "\t=0.00823*2548.04/120\n",
    "            =0.175\n"
   ]
  },
  {
   "cell_type": "code",
   "execution_count": 2,
   "id": "bff975c4",
   "metadata": {},
   "outputs": [
    {
     "name": "stderr",
     "output_type": "stream",
     "text": [
      "C:\\Users\\Microsoft\\anaconda3\\lib\\site-packages\\seaborn\\distributions.py:2619: FutureWarning: `distplot` is a deprecated function and will be removed in a future version. Please adapt your code to use either `displot` (a figure-level function with similar flexibility) or `histplot` (an axes-level function for histograms).\n",
      "  warnings.warn(msg, FutureWarning)\n"
     ]
    },
    {
     "ename": "NameError",
     "evalue": "name 'plt' is not defined",
     "output_type": "error",
     "traceback": [
      "\u001b[1;31m---------------------------------------------------------------------------\u001b[0m",
      "\u001b[1;31mNameError\u001b[0m                                 Traceback (most recent call last)",
      "Input \u001b[1;32mIn [2]\u001b[0m, in \u001b[0;36m<cell line: 7>\u001b[1;34m()\u001b[0m\n\u001b[0;32m      5\u001b[0m ax \u001b[38;5;241m=\u001b[39m sb\u001b[38;5;241m.\u001b[39mdistplot(data_binom)\n\u001b[0;32m      6\u001b[0m ax\u001b[38;5;241m.\u001b[39mset(xlabel\u001b[38;5;241m=\u001b[39m\u001b[38;5;124m'\u001b[39m\u001b[38;5;124mCustomers per 4 minutes\u001b[39m\u001b[38;5;124m'\u001b[39m, ylabel\u001b[38;5;241m=\u001b[39m\u001b[38;5;124m'\u001b[39m\u001b[38;5;124mFrequency\u001b[39m\u001b[38;5;124m'\u001b[39m)\n\u001b[1;32m----> 7\u001b[0m \u001b[43mplt\u001b[49m\u001b[38;5;241m.\u001b[39mtitle(\u001b[38;5;124m'\u001b[39m\u001b[38;5;124mPoisson distribution\u001b[39m\u001b[38;5;124m'\u001b[39m)\n\u001b[0;32m      8\u001b[0m plt\u001b[38;5;241m.\u001b[39mshow()\n",
      "\u001b[1;31mNameError\u001b[0m: name 'plt' is not defined"
     ]
    },
    {
     "data": {
      "image/png": "[encoded data removed]",
      "text/plain": [
       "<Figure size 432x288 with 1 Axes>"
      ]
     },
     "metadata": {
      "needs_background": "light"
     },
     "output_type": "display_data"
    }
   ],
   "source": [
    "from scipy.stats import poisson\n",
    "import seaborn as sb\n",
    "data_binom = poisson.rvs(mu=4.8, size=200)\n",
    "\n",
    "ax = sb.distplot(data_binom)\n",
    "ax.set(xlabel='Customers per 4 minutes', ylabel='Frequency')\n",
    "plt.title('Poisson distribution')\n",
    "plt.show()"
   ]
  },
  {
   "cell_type": "markdown",
   "id": "8337161c",
   "metadata": {},
   "source": [
    "Problem 8: I work as a data analyst in Aeon Learning Pvt. Ltd. After analyzing data, I make reports, where I have the efficiency of entering 77 words per minute with 6 errors per hour. What is the probability that I will commit 2 errors in a 455-word financial report? What happens when the no. of words increases/decreases (in case of 1000 words, 255 words)?\n",
    "How is the 𝜆 affected?\n",
    "\n",
    "How does it influence the PMF?\n",
    "\n",
    "Give a pictorial representation of the same to validate your answer.\n"
   ]
  },
  {
   "cell_type": "code",
   "execution_count": null,
   "id": "dafae23a",
   "metadata": {},
   "outputs": [],
   "source": [
    "Solution 8: \n",
    "\n",
    "77 words and 6 error = 6% error\n",
    "Hence 455 word report have 0.59 error per minute. Need probability 2 error hence x is 2 in this case.\n",
    "\n",
    "P (2) = (e– .59 0.592) / 2! = 0.0965\n",
    "\n",
    "Hence 1000 word report have 1,299 error per minute. Need probability 2 error hence x is 2 in this case.\n",
    "\n",
    "P (2) = (e– 1.229 1.2292) / 2! = 0.23\n",
    "\n",
    "Hence 255 word report have 0.33 error per minute. Need probability 2 error hence x is 2 in this case.\n",
    "\n",
    "\n",
    "P (2) = (e– .33 0.332) / 2! = 0.04\n"
   ]
  },
  {
   "cell_type": "code",
   "execution_count": null,
   "id": "593ed66f",
   "metadata": {},
   "outputs": [],
   "source": [
    "fig = plt.figure(figsize=(18, 8))\n",
    "x = np.arange(0,10)\n",
    "mu_1 = 0.59\n",
    "mu_2 = 1.299\n",
    "mu_3 = 0.33\n",
    "plt.subplot(1,2,1)\n",
    "plt.plot(x, poisson.pmf(x, mu_1), 'b-', label='λ: 0.59')\n",
    "plt.plot(x, poisson.pmf(x, mu_2), 'g-', label='λ: 1.299')\n",
    "plt.plot(x, poisson.pmf(x, mu_3), 'r-', label='λ: 0.33')\n",
    "plt.legend()\n",
    "plt.title('PDF for different lambda')\n",
    "plt.subplot(1, 2, 2)\n",
    "x = np.arange(0,10)\n",
    "mu_1 = 0.59\n",
    "mu_2 = 1.299\n",
    "mu_3 = 0.33\n",
    "plt.plot(x, poisson.cdf(x, mu_1), 'b-',label='λ: 0.59')\n",
    "plt.plot(x, poisson.cdf(x, mu_2), 'g-', label='λ: 1.299')\n",
    "plt.plot(x, poisson.cdf(x, mu_3), 'r-', label='λ: 0.33')\n",
    "plt.legend()\n",
    "plt.title('CDF for different lambda')\n",
    "plt.show()"
   ]
  },
  {
   "cell_type": "markdown",
   "id": "13887af2",
   "metadata": {},
   "source": [
    "Problem Statement 9:\n",
    "Let the continuous random variable D denote the diameter of the hole drilled in an aluminum sheet. The target diameter to be achieved is 12.5mm. Random disturbances in the process often result in inaccuracy. Historical data shows that the distribution of D can be modelled by the PDF, f(d) = 20e−20(d−12.5), d ≥ 12.5. If a part with diameter > 12.6 mm needs to be scrapped, what is the proportion of those parts? What is the CDF when the diameter is of 11 mm? What is the conclusion of this experiment?"
   ]
  },
  {
   "cell_type": "code",
   "execution_count": null,
   "id": "edbe4da6",
   "metadata": {},
   "outputs": [],
   "source": []
  }
 ],
 "metadata": {
  "kernelspec": {
   "display_name": "Python 3 (ipykernel)",
   "language": "python",
   "name": "python3"
  },
  "language_info": {
   "codemirror_mode": {
    "name": "ipython",
    "version": 3
   },
   "file_extension": ".py",
   "mimetype": "text/x-python",
   "name": "python",
   "nbconvert_exporter": "python",
   "pygments_lexer": "ipython3",
   "version": "3.9.12"
  }
 },
 "nbformat": 4,
 "nbformat_minor": 5
}
