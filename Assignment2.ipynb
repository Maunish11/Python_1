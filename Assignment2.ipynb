{
 "cells": [
  {
   "cell_type": "code",
   "execution_count": 1,
   "id": "e816bdc8",
   "metadata": {},
   "outputs": [
    {
     "name": "stdout",
     "output_type": "stream",
     "text": [
      "*\n",
      "**\n",
      "***\n",
      "****\n",
      "*****\n",
      "******\n",
      "*****\n",
      "****\n",
      "***\n",
      "**\n",
      "*\n"
     ]
    }
   ],
   "source": [
    "b=1\n",
    "for i in range(5):\n",
    "    if b<6:\n",
    "        print(b*\"*\")\n",
    "        b+=1\n",
    "for i in range(6):\n",
    "    if b>0:\n",
    "        print(b*\"*\")\n",
    "        b-=1\n",
    "        "
   ]
  },
  {
   "cell_type": "code",
   "execution_count": 12,
   "id": "de7fb9de",
   "metadata": {},
   "outputs": [
    {
     "name": "stdout",
     "output_type": "stream",
     "text": [
      "mauni\n",
      "inuam\n"
     ]
    }
   ],
   "source": [
    "a=input()\n",
    "s=\"\"\n",
    "for w in a:\n",
    "    s=w+s\n",
    "print(s)\n"
   ]
  },
  {
   "cell_type": "code",
   "execution_count": 29,
   "id": "f267cf3c",
   "metadata": {},
   "outputs": [
    {
     "name": "stdout",
     "output_type": "stream",
     "text": [
      "Maunish\n",
      "sinuaM\n"
     ]
    }
   ],
   "source": [
    "b = input()\n",
    "\n",
    "c = ''\n",
    "i = len(a)\n",
    "\n",
    "while(i >= 0):\n",
    "    c = c + b[i]\n",
    "    i = i - 1\n",
    "print(c)"
   ]
  },
  {
   "cell_type": "code",
   "execution_count": null,
   "id": "22f787fe",
   "metadata": {},
   "outputs": [],
   "source": []
  },
  {
   "cell_type": "code",
   "execution_count": null,
   "id": "e65e1087",
   "metadata": {},
   "outputs": [],
   "source": []
  }
 ],
 "metadata": {
  "kernelspec": {
   "display_name": "Python 3",
   "language": "python",
   "name": "python3"
  },
  "language_info": {
   "codemirror_mode": {
    "name": "ipython",
    "version": 3
   },
   "file_extension": ".py",
   "mimetype": "text/x-python",
   "name": "python",
   "nbconvert_exporter": "python",
   "pygments_lexer": "ipython3",
   "version": "3.8.8"
  }
 },
 "nbformat": 4,
 "nbformat_minor": 5
}
