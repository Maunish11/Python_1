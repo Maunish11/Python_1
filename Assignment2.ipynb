{
 "cells": [
  {
   "cell_type": "code",
   "execution_count": 21,
   "id": "8bd2436e",
   "metadata": {},
   "outputs": [
    {
     "name": "stdout",
     "output_type": "stream",
     "text": [
      "*\n",
      "**\n",
      "***\n",
      "****\n",
      "*****\n",
      "******\n",
      "*****\n",
      "****\n",
      "***\n",
      "**\n",
      "*\n"
     ]
    }
   ],
   "source": [
    "b=1\n",
    "for i in range(5):\n",
    "    if b<6:\n",
    "        print(b*\"*\")\n",
    "        b+=1\n",
    "for i in range(6):\n",
    "    if b>0:\n",
    "        print(b*\"*\")\n",
    "        b-=1\n",
    "        "
   ]
  },
  {
   "cell_type": "code",
   "execution_count": 67,
   "id": "fb903642",
   "metadata": {},
   "outputs": [
    {
     "name": "stdout",
     "output_type": "stream",
     "text": [
      "*\n",
      "**\n",
      "***\n",
      "****\n",
      "*****\n",
      "******\n",
      "*****\n",
      "****\n",
      "***\n",
      "**\n",
      "*\n",
      "\n"
     ]
    }
   ],
   "source": [
    "a=1\n",
    "b=5\n",
    "for i in range(6):\n",
    "     print(a*\"*\")\n",
    "     a+=1\n",
    "for n in range (6):\n",
    "    print(b*\"*\")\n",
    "    b-=1\n",
    "           \n",
    "       "
   ]
  },
  {
   "cell_type": "code",
   "execution_count": 91,
   "id": "55297a43",
   "metadata": {},
   "outputs": [
    {
     "name": "stdout",
     "output_type": "stream",
     "text": [
      "\n",
      "*\n",
      "**\n",
      "***\n",
      "****\n",
      "*****\n"
     ]
    }
   ],
   "source": [
    "a=6\n",
    "b=1\n",
    "for i in range(1):\n",
    "   for n in range (6):\n",
    "        if a>i:\n",
    "            print(n*\"*\")\n",
    "            i+=1\n",
    "        elif b>i:\n",
    "            print(n*\"*\")\n",
    "            n-=1"
   ]
  },
  {
   "cell_type": "code",
   "execution_count": 86,
   "id": "2c697b5d",
   "metadata": {},
   "outputs": [
    {
     "name": "stdout",
     "output_type": "stream",
     "text": [
      "mau\n"
     ]
    },
    {
     "data": {
      "text/plain": [
       "'uam'"
      ]
     },
     "execution_count": 86,
     "metadata": {},
     "output_type": "execute_result"
    }
   ],
   "source": [
    "a = input()\n",
    "a[::-1]\n"
   ]
  },
  {
   "cell_type": "code",
   "execution_count": 95,
   "id": "218ec8d5",
   "metadata": {},
   "outputs": [
    {
     "name": "stdout",
     "output_type": "stream",
     "text": [
      "          * \n",
      "         * * \n",
      "        * * * \n",
      "       * * * * \n",
      "      * * * * * \n",
      "     * * * * * * \n",
      "    * * * * * * * \n",
      "   * * * * * * * * \n",
      "  * * * * * * * * * \n",
      " * * * * * * * * * * \n"
     ]
    }
   ],
   "source": [
    "n=10\n",
    "for i in range(1, 11):\n",
    "    print(' '*n, end='')\n",
    "    print('* '*(i)) \n",
    "    n-=1"
   ]
  },
  {
   "cell_type": "code",
   "execution_count": null,
   "id": "2a8e6f93",
   "metadata": {},
   "outputs": [],
   "source": []
  }
 ],
 "metadata": {
  "kernelspec": {
   "display_name": "Python 3",
   "language": "python",
   "name": "python3"
  },
  "language_info": {
   "codemirror_mode": {
    "name": "ipython",
    "version": 3
   },
   "file_extension": ".py",
   "mimetype": "text/x-python",
   "name": "python",
   "nbconvert_exporter": "python",
   "pygments_lexer": "ipython3",
   "version": "3.8.8"
  }
 },
 "nbformat": 4,
 "nbformat_minor": 5
}
